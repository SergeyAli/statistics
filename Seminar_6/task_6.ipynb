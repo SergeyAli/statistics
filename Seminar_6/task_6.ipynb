{
 "cells": [
  {
   "cell_type": "markdown",
   "metadata": {},
   "source": [
    "## 1.\n",
    "Известно, что генеральная совокупность распределена нормально со средним квадратическим отклонением, равным 16. Найти доверительный интервал для оценки математического ожидания a с надежностью 0.95, если выборочная средняя M = 80, а объем выборки n = 256.\n",
    "\n",
    "Нам известны и среднее и дисперсия генеральной совокупности, соответственно для проверки гипотезы будем использовать $z$-критерий.  \n",
    "Формула нахождения доверительного интервала  \n",
    "  \n",
    "$\\bar X\\pm z_{\\alpha/2}\\cdot\\frac{\\sigma}{\\sqrt n}$   \n",
    "\n",
    "Размер выборки: $n=256$  \n",
    "Среднее значение выборки: $\\bar X=80$  \n",
    "Среднее квадратическое отклонение генеральной совокупности: $\\sigma=16$  \n",
    "Табличное значение $Z$-критерия для $95\\%$ доверительного интервала: $z_{\\alpha/2}=1,96$   "
   ]
  },
  {
   "cell_type": "code",
   "execution_count": 1,
   "metadata": {},
   "outputs": [
    {
     "name": "stdout",
     "output_type": "stream",
     "text": [
      "Доверительный интервал: [78.04; 81.96]\n"
     ]
    }
   ],
   "source": [
    "n = 256\n",
    "x = 80\n",
    "sigma = 16\n",
    "za = 1.96\n",
    "l1 = x - za * sigma / n**0.5\n",
    "l2 = x + za * sigma / n**0.5\n",
    "print(f'Доверительный интервал: [{round(l1, 4)}; {round(l2, 4)}]')"
   ]
  },
  {
   "cell_type": "markdown",
   "metadata": {},
   "source": [
    "## 2. \n",
    "В результате 10 независимых измерений некоторой величины X, выполненных с одинаковой точностью, получены опытные данные: 6.9, 6.1, 6.2, 6.8, 7.5, 6.3, 6.4, 6.9, 6.7, 6.1  \n",
    "Предполагая, что результаты измерений подчинены нормальному закону распределения вероятностей, оценить истинное значение величины X при помощи доверительного интервала, покрывающего это значение с доверительной вероятностью 0,95.  \n",
    "  \n",
    "Так как дисперсия генеральной совокупности неизвестна, вычисляем ее по выборке, используя формулу для несмещенного стандартного отклонения.   \n",
    "  \n",
    "$\\displaystyle\\bar X\\pm t_{\\alpha/2}\\cdot\\frac{\\sigma}{\\sqrt{n}}$  \n",
    "\n",
    "\n",
    "Размер выборки: $n=10$  \n",
    "$\\alpha=0,05$   "
   ]
  },
  {
   "cell_type": "code",
   "execution_count": 2,
   "metadata": {},
   "outputs": [],
   "source": [
    "import numpy as np\n",
    "import scipy.stats as stats"
   ]
  },
  {
   "cell_type": "code",
   "execution_count": 3,
   "metadata": {},
   "outputs": [
    {
     "name": "stdout",
     "output_type": "stream",
     "text": [
      "Среднее арифметическое выборки: 6.59\n"
     ]
    }
   ],
   "source": [
    "arr = [6.9, 6.1, 6.2, 6.8, 7.5, 6.3, 6.4, 6.9, 6.7, 6.1]\n",
    "n = 10\n",
    "x = np.mean(arr)\n",
    "print(f'Среднее арифметическое выборки: {round(x, 4)}')"
   ]
  },
  {
   "cell_type": "code",
   "execution_count": 4,
   "metadata": {},
   "outputs": [
    {
     "name": "stdout",
     "output_type": "stream",
     "text": [
      "Среднее квадратическое отклонение по выборке: 0.4508\n"
     ]
    }
   ],
   "source": [
    "sigma = np.std(arr, ddof = 1)\n",
    "print(f'Среднее квадратическое отклонение по выборке: {round(sigma, 4)}')"
   ]
  },
  {
   "cell_type": "code",
   "execution_count": 5,
   "metadata": {},
   "outputs": [
    {
     "name": "stdout",
     "output_type": "stream",
     "text": [
      "Значение t-критерия для 0.95% доверительного интервала: 0.4508\n"
     ]
    }
   ],
   "source": [
    "alpha = 0.05\n",
    "za = stats.t.ppf(1 - alpha / 2, n - 1)\n",
    "print(f'Значение t-критерия для {1-alpha}% доверительного интервала: {round(sigma, 4)}')"
   ]
  },
  {
   "cell_type": "code",
   "execution_count": 6,
   "metadata": {},
   "outputs": [
    {
     "name": "stdout",
     "output_type": "stream",
     "text": [
      "Доверительный интервал: [6.2675; 6.9125]\n"
     ]
    }
   ],
   "source": [
    "l1 = x - za * sigma / n**0.5\n",
    "l2 = x + za * sigma / n**0.5\n",
    "print(f'Доверительный интервал: [{round(l1, 4)}; {round(l2, 4)}]')"
   ]
  },
  {
   "cell_type": "markdown",
   "metadata": {},
   "source": [
    "## 3.\n",
    "\n",
    "Рост дочерей 175, 167, 154, 174, 178, 148, 160, 167, 169, 170  \n",
    "Рост матерей  178, 165, 165, 173, 168, 155, 160, 164, 178, 175  \n",
    "Используя эти данные построить 95% доверительный интервал для разности среднего роста родителей и детей.\n",
    "\n",
    "Используем формулу интернациональная оценка для разности средних арифметических  \n",
    "\n",
    "$\\bar{X}_1 - \\bar{X}_2 \\pm t{\\frac{\\alpha}{2}} \\sqrt{\\frac{D_1}{n_1} + \\frac{D_2}{n_2}}$, где  \n",
    "\n",
    "$\\bar{X}_1$ - среднее арифметическое в группе 1  \n",
    "$\\bar{X}_2$ - среднее арифметическое в группе 2  \n",
    "$D_1$ - дисперсия в группе 1  \n",
    "$D_2$ - дисперсия в группе 2  \n",
    "$n_1$ - число элементов в группе 1  \n",
    "$n_2$ - число элементов в группе 2  "
   ]
  },
  {
   "cell_type": "code",
   "execution_count": 7,
   "metadata": {},
   "outputs": [
    {
     "name": "stdout",
     "output_type": "stream",
     "text": [
      "95% Доверительный интервал для разности среднего роста родителей и детей: [-6.2684; 10.0684]\n"
     ]
    }
   ],
   "source": [
    "arr1 = np.array([175, 167, 154, 174, 178, 148, 160, 167, 169, 170])\n",
    "arr2 = np.array([178, 165, 165, 173, 168, 155, 160, 164, 178, 175])\n",
    "n1 = len(arr1)\n",
    "n2 = len(arr2)\n",
    "X1 = np.mean(arr1)\n",
    "X2 = np.mean(arr2)\n",
    "alpha = 0.05 / 2\n",
    "\n",
    "delta = X2 - X1\n",
    "deltaS = np.sqrt(np.var(arr2, ddof=1) / n2 + np.var(arr1, ddof=1) / n1)\n",
    "t_critical = stats.t.ppf(alpha, n2 + n1 - 2)\n",
    "l1 = delta - t_critical * deltaS\n",
    "l2 = delta + t_critical * deltaS\n",
    "\n",
    "print(f'95% Доверительный интервал для разности среднего роста родителей и детей: [{round(l2, 4)}; {round(l1, 4)}]')"
   ]
  }
 ],
 "metadata": {
  "kernelspec": {
   "display_name": "Python 3",
   "language": "python",
   "name": "python3"
  },
  "language_info": {
   "codemirror_mode": {
    "name": "ipython",
    "version": 3
   },
   "file_extension": ".py",
   "mimetype": "text/x-python",
   "name": "python",
   "nbconvert_exporter": "python",
   "pygments_lexer": "ipython3",
   "version": "3.11.7"
  }
 },
 "nbformat": 4,
 "nbformat_minor": 2
}
